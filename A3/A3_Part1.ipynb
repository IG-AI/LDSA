{
 "cells": [
  {
   "cell_type": "code",
   "execution_count": 1,
   "metadata": {},
   "outputs": [],
   "source": [
    "from pyspark.sql import SparkSession\n",
    "\n",
    "# (8 cores, 16gb per machine) x 5 = 40 cores\n",
    "\n",
    "# New API\n",
    "spark_session = SparkSession\\\n",
    "        .builder\\\n",
    "        .master(\"spark://192.168.2.87:7077\") \\\n",
    "        .appName(\"Daniel_Agstrand_A3_Part1\")\\\n",
    "        .config(\"spark.dynamicAllocation.enabled\", True)\\\n",
    "        .config(\"spark.shuffle.service.enabled\", True)\\\n",
    "        .config(\"spark.dynamicAllocation.executorIdleTimeout\",\"30s\")\\\n",
    "        .config(\"spark.executor.cores\",4)\\\n",
    "        .getOrCreate()\n",
    "\n",
    "# Old API (RDD)\n",
    "spark_context = spark_session.sparkContext\n",
    "\n"
   ]
  },
  {
   "cell_type": "code",
   "execution_count": 2,
   "metadata": {},
   "outputs": [],
   "source": [
    "# Q A.1.1\n",
    "\n",
    "rdd_en = spark_context.newAPIHadoopFile(\n",
    "    'hdfs://192.168.2.87:9000/europarl/europarl-v7.sv-en.en',\n",
    "    'org.apache.hadoop.mapreduce.lib.input.TextInputFormat',\n",
    "    'org.apache.hadoop.io.LongWritable',\n",
    "    'org.apache.hadoop.io.Text'\n",
    ")\\\n",
    ".cache() # Keep this RDD in memory!\n",
    "\n",
    "line_count_en = rdd_en.count()"
   ]
  },
  {
   "cell_type": "code",
   "execution_count": 3,
   "metadata": {},
   "outputs": [],
   "source": [
    "# Q A.1.2\n",
    "\n",
    "rdd_sv = spark_context.newAPIHadoopFile(\n",
    "    'hdfs://192.168.2.87:9000/europarl/europarl-v7.sv-en.sv',\n",
    "    'org.apache.hadoop.mapreduce.lib.input.TextInputFormat',\n",
    "    'org.apache.hadoop.io.LongWritable',\n",
    "    'org.apache.hadoop.io.Text'\n",
    ")\\\n",
    ".cache() # Keep this RDD in memory!\n",
    "\n",
    "line_count_sv = rdd_sv.count()"
   ]
  },
  {
   "cell_type": "code",
   "execution_count": 4,
   "metadata": {},
   "outputs": [
    {
     "name": "stdout",
     "output_type": "stream",
     "text": [
      "Equal amount of lines! Number of lines: 1862234\n"
     ]
    }
   ],
   "source": [
    "# Q A.1.3\n",
    "\n",
    "if line_count_sv == line_count_en:\n",
    "    print (\"Equal amount of lines! Number of lines: {}\".format(line_count_en))\n",
    "else:\n",
    "    print (\"Unequal amount of lines! Number of lines in en-sv = {} and Number of lines in sv-en = {}\"\\\n",
    "           .format(line_count_en, line_count_sv))"
   ]
  },
  {
   "cell_type": "code",
   "execution_count": 14,
   "metadata": {},
   "outputs": [
    {
     "name": "stdout",
     "output_type": "stream",
     "text": [
      "Number of partions in rdd_en: 2\n",
      "Number of partions in rdd_sv: 3\n",
      "Number of total partions in all rdd: 5\n"
     ]
    }
   ],
   "source": [
    "# Q A.1.4\n",
    "\n",
    "rdd_en_partitions_count = rdd_en.getNumPartitions()\n",
    "rdd_sv_partitions_count = rdd_sv.getNumPartitions()\n",
    "\n",
    "total_partitions_count = rdd_en_partitions_count + rdd_sv_partitions_count\n",
    "\n",
    "print(\"Number of partions in rdd_en: {}\\nNumber of partions in rdd_sv: {}\\nNumber of total partions in all rdd: {}\"\\\n",
    "      .format(rdd_en_partitions_count, rdd_sv_partitions_count, total_partitions_count))"
   ]
  },
  {
   "cell_type": "code",
   "execution_count": 30,
   "metadata": {},
   "outputs": [],
   "source": [
    "# Q A.2.1\n",
    "\n",
    "def lowercase_split(line):\n",
    "    line = str(line).lower()\n",
    "    line = str(line).split(\" \")\n",
    "    return line\n",
    "\n",
    "rdd_en_mapped = rdd_en.map(lowercase_split) \n",
    "rdd_sv_mapped = rdd_sv.map(lowercase_split) "
   ]
  },
  {
   "cell_type": "code",
   "execution_count": 31,
   "metadata": {},
   "outputs": [
    {
     "name": "stdout",
     "output_type": "stream",
     "text": [
      "10 entries in rdd_en_mapped: [['(0,', \"'resumption\", 'of', 'the', \"session')\"], ['(26,', \"'i\", 'declare', 'resumed', 'the', 'session', 'of', 'the', 'european', 'parliament', 'adjourned', 'on', 'friday', '17', 'december', '1999,', 'and', 'i', 'would', 'like', 'once', 'again', 'to', 'wish', 'you', 'a', 'happy', 'new', 'year', 'in', 'the', 'hope', 'that', 'you', 'enjoyed', 'a', 'pleasant', 'festive', \"period.')\"], ['(234,', '\"although,', 'as', 'you', 'will', 'have', 'seen,', 'the', 'dreaded', \"'millennium\", \"bug'\", 'failed', 'to', 'materialise,', 'still', 'the', 'people', 'in', 'a', 'number', 'of', 'countries', 'suffered', 'a', 'series', 'of', 'natural', 'disasters', 'that', 'truly', 'were', 'dreadful.\")'], ['(426,', \"'you\", 'have', 'requested', 'a', 'debate', 'on', 'this', 'subject', 'in', 'the', 'course', 'of', 'the', 'next', 'few', 'days,', 'during', 'this', \"part-session.')\"], ['(532,', '\"in', 'the', 'meantime,', 'i', 'should', 'like', 'to', 'observe', 'a', \"minute'\", 's', 'silence,', 'as', 'a', 'number', 'of', 'members', 'have', 'requested,', 'on', 'behalf', 'of', 'all', 'the', 'victims', 'concerned,', 'particularly', 'those', 'of', 'the', 'terrible', 'storms,', 'in', 'the', 'various', 'countries', 'of', 'the', 'european', 'union.\")'], ['(765,', '\"please', 'rise,', 'then,', 'for', 'this', \"minute'\", 's', 'silence.\")'], ['(812,', '\"(the', 'house', 'rose', 'and', 'observed', 'a', \"minute'\", 's', 'silence)\")'], ['(862,', \"'madam\", 'president,', 'on', 'a', 'point', 'of', \"order.')\"], ['(900,', \"'you\", 'will', 'be', 'aware', 'from', 'the', 'press', 'and', 'television', 'that', 'there', 'have', 'been', 'a', 'number', 'of', 'bomb', 'explosions', 'and', 'killings', 'in', 'sri', \"lanka.')\"], ['(1024,', \"'one\", 'of', 'the', 'people', 'assassinated', 'very', 'recently', 'in', 'sri', 'lanka', 'was', 'mr', 'kumar', 'ponnambalam,', 'who', 'had', 'visited', 'the', 'european', 'parliament', 'just', 'a', 'few', 'months', \"ago.')\"]]\n",
      "10 entries in rdd_vs_mapped: [['(0,', \"'återupptagande\", 'av', \"sessionen')\"], ['(29,', \"'jag\", 'förklarar', 'europaparlamentets', 'session', 'återupptagen', 'efter', 'avbrottet', 'den', '17', 'december.', 'jag', 'vill', 'på', 'nytt', 'önska', 'er', 'ett', 'gott', 'nytt', 'år', 'och', 'jag', 'hoppas', 'att', 'ni', 'haft', 'en', 'trevlig', \"semester.')\"], ['(212,', \"'som\", 'ni', 'kunnat', 'konstatera', 'ägde', '\"den', 'stora', 'år', '2000-buggen\"', 'aldrig', 'rum.', 'däremot', 'har', 'invånarna', 'i', 'ett', 'antal', 'av', 'våra', 'medlemsländer', 'drabbats', 'av', 'naturkatastrofer', 'som', 'verkligen', 'varit', \"förskräckliga.')\"], ['(409,', \"'ni\", 'har', 'begärt', 'en', 'debatt', 'i', 'ämnet', 'under', 'sammanträdesperiodens', 'kommande', \"dagar.')\"], ['(488,', \"'till\", 'dess', 'vill', 'jag', 'att', 'vi,', 'som', 'ett', 'antal', 'kolleger', 'begärt,', 'håller', 'en', 'tyst', 'minut', 'för', 'offren', 'för', 'bl.a.', 'stormarna', 'i', 'de', 'länder', 'i', 'europeiska', 'unionen', 'som', \"drabbats.')\"], ['(650,', \"'jag\", 'ber', 'er', 'resa', 'er', 'för', 'en', 'tyst', \"minut.')\"], ['(689,', \"'(parlamentet\", 'höll', 'en', 'tyst', \"minut.)')\"], ['(724,', \"'fru\", 'talman!', 'det', 'gäller', 'en', \"ordningsfråga.')\"], ['(767,', \"'ni\", 'känner', 'till', 'från', 'media', 'att', 'det', 'skett', 'en', 'rad', 'bombexplosioner', 'och', 'mord', 'i', 'sri', \"lanka.')\"], ['(854,', \"'en\", 'av', 'de', 'personer', 'som', 'mycket', 'nyligen', 'mördades', 'i', 'sri', 'lanka', 'var', 'kumar', 'ponnambalam,', 'som', 'besökte', 'europaparlamentet', 'för', 'bara', 'några', 'månader', \"sedan.')\"]]\n"
     ]
    }
   ],
   "source": [
    "# Q A.2.1\n",
    "\n",
    "print(\"10 entries in rdd_en_mapped: \" + str(rdd_en_mapped.take(10)) + \"\\n10 entries in rdd_vs_mapped: \" + str(rdd_sv_mapped.take(10)))"
   ]
  },
  {
   "cell_type": "code",
   "execution_count": 34,
   "metadata": {},
   "outputs": [
    {
     "name": "stdout",
     "output_type": "stream",
     "text": [
      "Line count still match!\n"
     ]
    }
   ],
   "source": [
    "# Q A.2.2\n",
    "\n",
    "line_count_en_mapped = rdd_en_mapped.count()\n",
    "line_count_sv_mapped = rdd_sv_mapped.count()\n",
    "\n",
    "if ((line_count_en_mapped == line_count_en) & (line_count_sv_mapped == line_count_sv)):\n",
    "    print(\"Line count still match!\")\n",
    "else:\n",
    "    print(\"Line count doesnt match any more!\")"
   ]
  },
  {
   "cell_type": "code",
   "execution_count": null,
   "metadata": {},
   "outputs": [],
   "source": []
  },
  {
   "cell_type": "code",
   "execution_count": null,
   "metadata": {},
   "outputs": [],
   "source": [
    "#spark_session.stop()"
   ]
  }
 ],
 "metadata": {
  "kernelspec": {
   "display_name": "Python 3",
   "language": "python",
   "name": "python3"
  },
  "language_info": {
   "codemirror_mode": {
    "name": "ipython",
    "version": 3
   },
   "file_extension": ".py",
   "mimetype": "text/x-python",
   "name": "python",
   "nbconvert_exporter": "python",
   "pygments_lexer": "ipython3",
   "version": "3.6.9"
  }
 },
 "nbformat": 4,
 "nbformat_minor": 2
}
